{
 "cells": [
  {
   "cell_type": "markdown",
   "id": "080339b1-e7c2-4058-b2c1-11820967db67",
   "metadata": {},
   "source": [
    "# Damavis Challenge"
   ]
  },
  {
   "cell_type": "markdown",
   "id": "8733ef9a-78f8-474e-a4bb-8e21564fcc67",
   "metadata": {},
   "source": [
    "Consider a rectangular board consisting of **n × m cells**. There is a snake lying on some of the\n",
    "cells, and all of the other cells are empty. **The snake consists of one or more cells** such that\n",
    "cells with consecutive numbers are either horizontally or vertically adjacent. **The first cell is\n",
    "the snake's head, and the last cell is the snake's tail**.\n",
    "\n",
    "\n",
    "On each turn, the snake's head moves to one of the horizontally or vertically adjacent cells,\n",
    "the second cell of the snake moves to the cell where the head was situated, the third cell\n",
    "takes the former place of the second cell, etc. **All these movements happen simultaneously**,\n",
    "so the head could potentially take the place of the tail. There are two configurations of the\n",
    "snake's cells that are prohibited: self-intersection (meaning that after each step any pair of\n",
    "snake cells should have pairwise different coordinates), and crossing the board's border. **The\n",
    "path is a sequence of characters L, R, D, and U** (corresponding to left, right, down, and up,\n",
    "respectively) describing the movements of snake's head on each turn. **How many distinct\n",
    "valid paths of length p can the snake make on the board?**"
   ]
  },
  {
   "cell_type": "markdown",
   "id": "0ab274ab-045b-4351-9821-3c31b586175a",
   "metadata": {},
   "source": [
    "**EXAMPLE:**\n",
    "\n",
    "![Snake Example](snake_example.png \"Snake Example\")\n",
    "\n",
    "For board = `[4, 3]`, snake = `[[2, 2], [3, 2], [3, 1], [3, 0], [2, 0], [1, 0], [0, 0]]`, and `depth = 3`, the\n",
    "output should be `numberOfAvailableDifferentPaths(board, snake, depth) = 7`.\n",
    "\n",
    "Here are all of the valid paths with a length of 3 that the snake can make:\n",
    "- LLU\n",
    "- LUR\n",
    "- LUL\n",
    "- ULL\n",
    "- ULD\n",
    "- LUU\n",
    "- ULU"
   ]
  },
  {
   "cell_type": "markdown",
   "id": "38767ac4-d4f9-4513-9351-09a195975be0",
   "metadata": {},
   "source": [
    "**CONTRACT INPUT OUTPUT**:\n",
    "\n",
    "There are **3 input argument** in this challenge:\n",
    "\n",
    "- `board` as array.integer:\n",
    "\n",
    "    The board is an array describing the dimensions of the board. **board[0] stands for the number of rows, and board[1] corresponds to the number of columns**. Guaranteed constraints:\n",
    "\n",
    "        board.length = 2,\n",
    "        1 ≤ board[i] ≤ 10.\n",
    "        \n",
    "- `snake` as array.array.integer:\n",
    "    \n",
    "    The snake is an array that describes the configuration of the snake's body on the board. **snake[0] corresponds to the initial coordinates of the snake's head**, snake[1] corresponds to coordinates of the second cell, etc. It is guaranteed that **snake[i] and snake[i + 1] are horizontally or vertically adjacent**, and that its **initial configuration is valid** (i.e. there are no self-intersections and the snake's entire body lies inside the board). Guaranteed constraints:\n",
    "    \n",
    "        3 ≤ snake.length ≤ 7,\n",
    "        snake[i].length = 2,\n",
    "        0 ≤ snake[i][j] < board[j].\n",
    "        \n",
    "- `depth` as integer:\n",
    "\n",
    "    The depth is the paths depth. You have to discard all paths with a different path length. Guaranteed constraints:\n",
    "    \n",
    "        1 ≤ n ≤ 20.\n",
    "        \n",
    "And the **output**:\n",
    "\n",
    "- `output` as integer:\n",
    "\n",
    "    The number of distinct valid paths of length p that the snake can make, modulo $10^9 + 7$."
   ]
  },
  {
   "cell_type": "markdown",
   "id": "959dc8f4-b876-45fa-9c2a-1124c8c12cc2",
   "metadata": {},
   "source": [
    "## Variable declaration"
   ]
  },
  {
   "cell_type": "code",
   "execution_count": 1,
   "id": "843eb66a-f62c-49b9-8ae8-bb231160f494",
   "metadata": {},
   "outputs": [],
   "source": [
    "HORIZONTAL_INDEX = 0\n",
    "VERTICAL_INDEX = 1\n",
    "\n",
    "LEFT = 0\n",
    "RIGHT = 1\n",
    "DOWN = 2\n",
    "UP = 3\n",
    "\n",
    "DIRECTIONS_LETTERS = 'LRDU'\n",
    "DIRECTIONS_MAP = {\n",
    "    'L': LEFT,\n",
    "    'R': RIGHT,\n",
    "    'D': DOWN,\n",
    "    'U': UP\n",
    "}"
   ]
  },
  {
   "cell_type": "code",
   "execution_count": 2,
   "id": "6d0699fe-16a1-4b24-aa29-8c9f57bcb042",
   "metadata": {},
   "outputs": [],
   "source": [
    "board = [4,3]\n",
    "snake = [\n",
    "    [2, 2],\n",
    "    [3, 2],\n",
    "    [3, 1],\n",
    "    [3, 0],\n",
    "    [2, 0],\n",
    "    [1, 0],\n",
    "    [0, 0]\n",
    "]\n",
    "depth = 3"
   ]
  },
  {
   "cell_type": "markdown",
   "id": "48971607-ffb8-4666-8457-8b4d80c6aafa",
   "metadata": {},
   "source": [
    "## Auxiliar functions"
   ]
  },
  {
   "cell_type": "markdown",
   "id": "59711d19-ff3b-4fda-8340-fcdd4081ce19",
   "metadata": {},
   "source": [
    "We will do a function to print the snake in the board so the paths are more visual and easy to understand"
   ]
  },
  {
   "cell_type": "code",
   "execution_count": 3,
   "id": "ce820ba1-7194-4836-96c7-ff8f7e652faf",
   "metadata": {},
   "outputs": [],
   "source": [
    "HEAD_SYMBOL = ':' # If it is the snake's head print ':'\n",
    "BODY_SYMBOL = '=' # If it is the body, print '='\n",
    "EMPTY_SYMBOL = ' ' # If the cell is empty, print ' '\n",
    "\n",
    "def print_board(board : list, snake : list):\n",
    "    \"\"\"Print the current state of the snake in the board\n",
    "\n",
    "    Parameters\n",
    "    ----------\n",
    "    board : list\n",
    "        A list of length 2 with the dimensions of the board.\n",
    "    snake : list\n",
    "        A list of cells (list of two ints) indicating the cells where the snake is. First cell is head and last tail.\n",
    "    \"\"\"\n",
    "\n",
    "    for j in range(board[VERTICAL_INDEX]):\n",
    "        for i in range(board[HORIZONTAL_INDEX]):\n",
    "            if i == 0:\n",
    "                print('| ', end='')\n",
    "            if [i,j] in snake: # If the snake is in this cell print it\n",
    "                if [i,j] == snake[0]:\n",
    "                    print(f'{HEAD_SYMBOL} | ', end='')\n",
    "                else:\n",
    "                    print(f'{BODY_SYMBOL} | ', end='')\n",
    "            else:\n",
    "                print(f'{EMPTY_SYMBOL} | ', end='')\n",
    "        print()\n",
    "    print()"
   ]
  },
  {
   "cell_type": "code",
   "execution_count": 4,
   "id": "bf28c79b-3f30-49f0-9fab-419d09473f54",
   "metadata": {},
   "outputs": [
    {
     "name": "stdout",
     "output_type": "stream",
     "text": [
      "| = | = | = | = | \n",
      "|   |   |   | = | \n",
      "|   |   | : | = | \n",
      "\n"
     ]
    }
   ],
   "source": [
    "print_board(board, snake)"
   ]
  },
  {
   "cell_type": "code",
   "execution_count": 5,
   "id": "4a260bdf-86dc-48c4-978a-99c8db29c61f",
   "metadata": {},
   "outputs": [],
   "source": [
    "def move_snake(snake : list, direction : int):\n",
    "    \"\"\"Creates a new snake in the given direction.\n",
    "\n",
    "    Parameters\n",
    "    ----------\n",
    "    snake : list\n",
    "        A list of cells (list of two ints) indicating the cells where the snake is. First cell is head and last tail.\n",
    "    direction : int\n",
    "        The direction to move the snake -> 0, 1, 2, 3 = LEFT, RIGHT, DOWN, UP\n",
    "    \n",
    "    \n",
    "    Returns\n",
    "    -------\n",
    "    list\n",
    "        A list of cells with the new snake\n",
    "    \"\"\"\n",
    "    \n",
    "    snake_copy = snake.copy()\n",
    "    # Get the snake's head\n",
    "    snakes_head = snake_copy[0]\n",
    "    # Remove the tail of the snake\n",
    "    snake_copy.pop()\n",
    "    \n",
    "    # Get the new head with the movement\n",
    "    new_head = snakes_head.copy()\n",
    "    if direction == LEFT:\n",
    "        new_head[HORIZONTAL_INDEX] = new_head[HORIZONTAL_INDEX] - 1\n",
    "    elif direction == RIGHT:\n",
    "        new_head[HORIZONTAL_INDEX] = new_head[HORIZONTAL_INDEX] + 1\n",
    "    elif direction == DOWN:\n",
    "        new_head[VERTICAL_INDEX] = new_head[VERTICAL_INDEX] + 1\n",
    "    elif direction == UP:\n",
    "        new_head[VERTICAL_INDEX] = new_head[VERTICAL_INDEX] - 1\n",
    "        \n",
    "    # Insert the new head in snake's body\n",
    "    snake_copy.insert(0, new_head)\n",
    "    \n",
    "    return snake_copy"
   ]
  },
  {
   "cell_type": "code",
   "execution_count": 6,
   "id": "c30c707f-e6a2-43f7-8c60-b225c0ba2622",
   "metadata": {},
   "outputs": [
    {
     "name": "stdout",
     "output_type": "stream",
     "text": [
      "| = | = | = | = | \n",
      "|   |   |   | = | \n",
      "|   |   | : | = | \n",
      "\n",
      "|   | = | = | = | \n",
      "|   |   | : | = | \n",
      "|   |   | = | = | \n",
      "\n",
      "|   |   | = | = | \n",
      "|   | : | = | = | \n",
      "|   |   | = | = | \n",
      "\n"
     ]
    }
   ],
   "source": [
    "print_board(board, snake)\n",
    "print_board(board, move_snake(snake, UP))\n",
    "print_board(board, move_snake(move_snake(snake, UP), LEFT))"
   ]
  },
  {
   "cell_type": "markdown",
   "id": "2b208128-7e9c-410b-bcbe-be3527b80106",
   "metadata": {},
   "source": [
    "Now, we are going to define a function that, given a path in string format, we are able to print it all"
   ]
  },
  {
   "cell_type": "code",
   "execution_count": 7,
   "id": "9bb6d49c-7e5e-4c5c-bb6a-2c1df8097563",
   "metadata": {},
   "outputs": [],
   "source": [
    "def print_snake_path(board : list, snake : list, path : str):\n",
    "    \"\"\"Print the full given path of the snake in the board\n",
    "\n",
    "    Parameters\n",
    "    ----------\n",
    "    board : list\n",
    "        A list of length 2 with the dimensions of the board.\n",
    "    snake : list\n",
    "        A list of cells (list of two ints) indicating the cells where the snake is. First cell is head and last tail.\n",
    "    path : str\n",
    "        A string with the path the snake must go.\n",
    "    \"\"\"\n",
    "    # Print actual snake\n",
    "    print_board(board, snake)\n",
    "    \n",
    "    # Stop condition\n",
    "    if path == '':\n",
    "        return\n",
    "    \n",
    "    # Move and print the rest of the path\n",
    "    print_snake_path(board, move_snake(snake, DIRECTIONS_MAP[path[0]]), path[1:])"
   ]
  },
  {
   "cell_type": "code",
   "execution_count": 8,
   "id": "013bd43e-2943-44b2-bbc7-c521a3507c13",
   "metadata": {},
   "outputs": [
    {
     "name": "stdout",
     "output_type": "stream",
     "text": [
      "| = | = | = | = | \n",
      "|   |   |   | = | \n",
      "|   |   | : | = | \n",
      "\n",
      "|   | = | = | = | \n",
      "|   |   |   | = | \n",
      "|   | : | = | = | \n",
      "\n",
      "|   |   | = | = | \n",
      "|   | : |   | = | \n",
      "|   | = | = | = | \n",
      "\n",
      "|   |   |   | = | \n",
      "| : | = |   | = | \n",
      "|   | = | = | = | \n",
      "\n"
     ]
    }
   ],
   "source": [
    "print_snake_path(board, snake, 'LUL')"
   ]
  },
  {
   "cell_type": "markdown",
   "id": "13d965b0-8da3-4c25-982f-be209bc468fc",
   "metadata": {},
   "source": [
    "To check if the movement performed by the snake is valid, we have to perform two verifications:\n",
    "- **Self-intersection**: As we can assume that the initial position is correct, in a movement, the only \"new\" cell occupied by the snake is the new head, so we only have to check if the new head is in a cell already occupied by the body.\n",
    "- **Out of borders**: The other condition that must be fulfilled is that the snake must be inside the board, that is, that it does not go beyond the edges. As before, in a movement, the only part we have to check is the new head of the snake, as it is the only part that occupy a new cell."
   ]
  },
  {
   "cell_type": "code",
   "execution_count": 9,
   "id": "ca1e5a2d-db38-4790-95dd-26c306745722",
   "metadata": {},
   "outputs": [],
   "source": [
    "def valid_snake(board : list, snake : list):\n",
    "    \"\"\"Check if the snake given is valid in the given board\n",
    "\n",
    "    Parameters\n",
    "    ----------\n",
    "    board : list\n",
    "        A list of length 2 with the dimensions of the board.\n",
    "    snake : list\n",
    "        A list of cells (list of two ints) indicating the cells where the snake is. First cell is head and last tail.\n",
    "    \n",
    "    Returns\n",
    "    -------\n",
    "    bool\n",
    "        True if is valid, False if not\n",
    "    \"\"\"\n",
    "    snakes_head = snake[0]\n",
    "    snakes_body = snake[1:]\n",
    "    \n",
    "    # Self-intersection\n",
    "    if snakes_head in snakes_body:\n",
    "        return False\n",
    "    \n",
    "    # Inside of board borders\n",
    "    if 0 <= snakes_head[HORIZONTAL_INDEX] < board[HORIZONTAL_INDEX] and 0 <= snakes_head[VERTICAL_INDEX] < board[VERTICAL_INDEX]:\n",
    "        return True\n",
    "    \n",
    "    # Outsise of board borders\n",
    "    return False"
   ]
  },
  {
   "cell_type": "code",
   "execution_count": 10,
   "id": "234f5f96-201a-493f-913f-5b538f9dff84",
   "metadata": {},
   "outputs": [
    {
     "name": "stdout",
     "output_type": "stream",
     "text": [
      "| = | = | = | = | \n",
      "|   |   |   | = | \n",
      "|   |   | : | = | \n",
      "\n",
      "Snake moves left is valid: True\n",
      "Snake moves right is not valid (self-intersection): False\n",
      "Snake moves down is not valid (out of board borders): False\n",
      "Snake moves up is valid: True\n"
     ]
    }
   ],
   "source": [
    "print_board(board, snake)\n",
    "\n",
    "print('Snake moves left is valid:', valid_snake(board, move_snake(snake, LEFT)))\n",
    "print('Snake moves right is not valid (self-intersection):', valid_snake(board, move_snake(snake, DOWN)))\n",
    "print('Snake moves down is not valid (out of board borders):', valid_snake(board, move_snake(snake, DOWN)))\n",
    "print('Snake moves up is valid:', valid_snake(board, move_snake(snake, UP)))"
   ]
  },
  {
   "cell_type": "markdown",
   "id": "73c0a0f8-2ab2-4571-ac94-0cbcf06f5742",
   "metadata": {},
   "source": [
    "## Solution"
   ]
  },
  {
   "cell_type": "markdown",
   "id": "7698cf0c-d4cd-4339-b166-6b5a7ef0abb0",
   "metadata": {},
   "source": [
    "To solve this problem the optimal way we have found is to implement a **[Backtracking algorithm](https://en.wikipedia.org/wiki/Backtracking)** recursively. With this algorithm we are able to go over all the posible solutions and return the correct paths. In this case, we are going to use recursivility to divide the problem in four subproblems (one per each direction). Then, we are going to combine the answers of each problem to solve the actual big problem (get all the possible paths).\n",
    "\n",
    "The **pseudocode of the function** would be like this:\n",
    "\n",
    "```\n",
    "get_snake_paths(board, snake, depth, direction):\n",
    "    move_snake(snake, direction)\n",
    "    valid_snake(board, snake)\n",
    "    \n",
    "    if no more depth to go:\n",
    "        return direction # We have a solution here!\n",
    "    \n",
    "    get_snake_paths(board, snake, depth-1, LEFT)\n",
    "    get_snake_paths(board, snake, depth-1, RIGHT)\n",
    "    get_snake_paths(board, snake, depth-1, DOWN)\n",
    "    get_snake_paths(board, snake, depth-1, UP)\n",
    "    \n",
    "    combine the partial solutions\n",
    "\n",
    "    add previous move to each partial solution\n",
    "    \n",
    "    return all paths of this step in the depth\n",
    "```\n",
    "\n",
    "However, **we have to take care of the first step**, where the snake has not move yet. In that case, we will indicate that direction is `None` and it is not necessary to move the snake to any direction, check if its valid (as the base position of the snake is always valid) or add the previous move to the partial solutions.\n",
    "\n",
    "Knowing all of that, we can build the following function:"
   ]
  },
  {
   "cell_type": "markdown",
   "id": "836cacbb-0e23-4012-9eef-461ee3e371ab",
   "metadata": {},
   "source": [
    "### Base solution"
   ]
  },
  {
   "cell_type": "code",
   "execution_count": 11,
   "id": "7a5c67f5-7409-4fbd-8f51-ad554b37fd1f",
   "metadata": {},
   "outputs": [],
   "source": [
    "def get_snake_paths(board : list, snake : list, depth : int, direction : int = None):\n",
    "    \"\"\"Check if the snake given is valid in the given board\n",
    "\n",
    "    Parameters\n",
    "    ----------\n",
    "    board : list\n",
    "        A list of length 2 with the dimensions of the board.\n",
    "    snake : list\n",
    "        A list of cells (list of two ints) indicating the cells where the snake is. First cell is head and last tail.\n",
    "    depth : int\n",
    "        The paths depth\n",
    "    direction : int\n",
    "        The direction to move the snake. None indicates that no movement has occur yet. -> 0, 1, 2, 3 = LEFT, RIGHT, DOWN, UP\n",
    "    \n",
    "    Returns\n",
    "    -------\n",
    "    list\n",
    "        Lists of possible paths, with the given depth, in string format the snake can go. \n",
    "    \"\"\"\n",
    "    # Create the snake moved\n",
    "    if direction is not None:\n",
    "        snake = move_snake(snake, direction)\n",
    "    \n",
    "        # If the snake did an invalid movement, then return empty array\n",
    "        if not valid_snake(board, snake):\n",
    "            return []\n",
    "\n",
    "    # Stop condition, snake has move to the full depth\n",
    "    if depth == 0:\n",
    "        return [DIRECTIONS_LETTERS[direction]]\n",
    "    \n",
    "    # Get the paths for every direction\n",
    "    paths_left = get_snake_paths(board, snake, depth-1, direction=LEFT)\n",
    "    paths_right = get_snake_paths(board, snake, depth-1, direction=RIGHT)\n",
    "    paths_down = get_snake_paths(board, snake, depth-1, direction=DOWN)\n",
    "    paths_up = get_snake_paths(board, snake, depth-1, direction=UP)\n",
    "\n",
    "    # Combine all partial solutions\n",
    "    paths = paths_left + paths_right + paths_down + paths_up\n",
    "    \n",
    "    # Add the previus move (if exists)\n",
    "    if direction is not None:\n",
    "        paths = [DIRECTIONS_LETTERS[direction] + path for path in paths]\n",
    "    \n",
    "    return paths"
   ]
  },
  {
   "cell_type": "code",
   "execution_count": 12,
   "id": "9f53fd78-581a-4009-af52-ee3df03a080f",
   "metadata": {},
   "outputs": [
    {
     "name": "stdout",
     "output_type": "stream",
     "text": [
      "| = | = | = | = | \n",
      "|   |   |   | = | \n",
      "|   |   | : | = | \n",
      "\n"
     ]
    },
    {
     "data": {
      "text/plain": [
       "['LLU', 'LUL', 'LUR', 'LUU', 'ULL', 'ULD', 'ULU']"
      ]
     },
     "execution_count": 12,
     "metadata": {},
     "output_type": "execute_result"
    }
   ],
   "source": [
    "print_board(board, snake)\n",
    "get_snake_paths(board, snake, depth)"
   ]
  },
  {
   "cell_type": "markdown",
   "id": "ba8f6a38-308d-4a90-85a3-cde9616110c7",
   "metadata": {},
   "source": [
    "### Just returning the number of paths"
   ]
  },
  {
   "cell_type": "markdown",
   "id": "4e6b0fc7-97aa-4dc0-a44f-0a38b6bd556a",
   "metadata": {},
   "source": [
    "But, for solve the problem we dont really need the paths, we only need the number of possible paths, so we remove the path creation steps so we optimize the computation time."
   ]
  },
  {
   "cell_type": "code",
   "execution_count": 13,
   "id": "4167a6ad-a908-4a71-a738-15b270aa1a24",
   "metadata": {},
   "outputs": [],
   "source": [
    "def get_n_snake_paths(board : list, snake : list, depth : int, direction : int = None):\n",
    "    \"\"\"Check if the snake given is valid in the given board\n",
    "\n",
    "    Parameters\n",
    "    ----------\n",
    "    board : list\n",
    "        A list of length 2 with the dimensions of the board.\n",
    "    snake : list\n",
    "        A list of cells (list of two ints) indicating the cells where the snake is. First cell is head and last tail.\n",
    "    depth : int\n",
    "        The paths depth\n",
    "    direction : int\n",
    "        The direction to move the snake. None indicates that no movement has occur yet. -> 0, 1, 2, 3 = LEFT, RIGHT, DOWN, UP\n",
    "    \n",
    "    Returns\n",
    "    -------\n",
    "    int\n",
    "        Number of possible paths, with the given depth, the snake can go. \n",
    "    \"\"\"\n",
    "    # Create the snake moved\n",
    "    if direction is not None:\n",
    "        snake = move_snake(snake, direction)\n",
    "    \n",
    "        # If the snake did an invalid movement, then return empty array\n",
    "        if not valid_snake(board, snake):\n",
    "            return 0\n",
    "\n",
    "    # Stop condition, snake has move to the full depth. We have found a path!\n",
    "    if depth == 0:\n",
    "        return 1\n",
    "    \n",
    "    # Get the paths for every direction\n",
    "    paths_left = get_n_snake_paths(board, snake, depth-1, direction=LEFT)\n",
    "    paths_right = get_n_snake_paths(board, snake, depth-1, direction=RIGHT)\n",
    "    paths_down = get_n_snake_paths(board, snake, depth-1, direction=DOWN)\n",
    "    paths_up = get_n_snake_paths(board, snake, depth-1, direction=UP)\n",
    "\n",
    "    # Combine all partial solutions\n",
    "    paths = paths_left + paths_right + paths_down + paths_up\n",
    "    \n",
    "    return paths"
   ]
  },
  {
   "cell_type": "code",
   "execution_count": 14,
   "id": "e017b68b-d844-4a48-aed5-432ba8d2c65a",
   "metadata": {},
   "outputs": [
    {
     "data": {
      "text/plain": [
       "7"
      ]
     },
     "execution_count": 14,
     "metadata": {},
     "output_type": "execute_result"
    }
   ],
   "source": [
    "get_n_snake_paths(board, snake, depth)"
   ]
  },
  {
   "cell_type": "markdown",
   "id": "563fcbc9-740d-4e39-984e-a19df10d0463",
   "metadata": {},
   "source": [
    "### Pruning some wrong movements before calculating them"
   ]
  },
  {
   "cell_type": "markdown",
   "id": "93337dd5-036f-4ee6-8e8b-28484bcbbbb6",
   "metadata": {},
   "source": [
    "In addition, we can add some pruning to avoid the creation and validation of unnecessary movements."
   ]
  },
  {
   "cell_type": "code",
   "execution_count": 15,
   "id": "306c4b57-6c0d-41f0-988e-98986310501a",
   "metadata": {},
   "outputs": [],
   "source": [
    "def get_n_snake_paths_opt(board : list, snake : list, depth : int, direction : int = None):\n",
    "    \"\"\"Check if the snake given is valid in the given board\n",
    "\n",
    "    Parameters\n",
    "    ----------\n",
    "    board : list\n",
    "        A list of length 2 with the dimensions of the board.\n",
    "    snake : list\n",
    "        A list of cells (list of two ints) indicating the cells where the snake is. First cell is head and last tail.\n",
    "    depth : int\n",
    "        The paths depth\n",
    "    direction : int\n",
    "        The direction to move the snake. None indicates that no movement has occur yet. -> 0, 1, 2, 3 = LEFT, RIGHT, DOWN, UP\n",
    "    \n",
    "    Returns\n",
    "    -------\n",
    "    int\n",
    "        Number of possible paths, with the given depth, the snake can go. \n",
    "    \"\"\"\n",
    "    # Create the snake moved\n",
    "    if direction is not None:\n",
    "        snake = move_snake(snake, direction)\n",
    "    \n",
    "        # If the snake did an invalid movement, then return empty array\n",
    "        if not valid_snake(board, snake):\n",
    "            return 0\n",
    "\n",
    "    # Stop condition, snake has move to the full depth. We have found a path!\n",
    "    if depth == 0:\n",
    "        return 1\n",
    "    \n",
    "    # Get the paths for every direction\n",
    "    paths_left = get_n_snake_paths_opt(board, snake, depth-1, direction=LEFT) if (direction is None or direction != RIGHT) and snake[0][HORIZONTAL_INDEX] > 0 else 0\n",
    "    paths_right = get_n_snake_paths_opt(board, snake, depth-1, direction=RIGHT) if (direction is None or direction != LEFT) and snake[0][HORIZONTAL_INDEX] < (board[HORIZONTAL_INDEX]-1) else 0\n",
    "    paths_down = get_n_snake_paths_opt(board, snake, depth-1, direction=DOWN) if (direction is None or direction != UP) and snake[0][VERTICAL_INDEX] < (board[VERTICAL_INDEX]-1) else 0\n",
    "    paths_up = get_n_snake_paths_opt(board, snake, depth-1, direction=UP) if (direction is None or direction != DOWN) and snake[0][VERTICAL_INDEX] > 0  else 0\n",
    "\n",
    "    # Combine all partial solutions\n",
    "    paths = paths_left + paths_right + paths_down + paths_up\n",
    "    \n",
    "    return paths"
   ]
  },
  {
   "cell_type": "code",
   "execution_count": 16,
   "id": "f0c0c235-94a4-4425-84df-81e80e2c619c",
   "metadata": {},
   "outputs": [
    {
     "data": {
      "text/plain": [
       "7"
      ]
     },
     "execution_count": 16,
     "metadata": {},
     "output_type": "execute_result"
    }
   ],
   "source": [
    "get_n_snake_paths_opt(board, snake, depth)"
   ]
  },
  {
   "cell_type": "markdown",
   "id": "5f9e5c01-2c62-4c27-84bd-d5bc3e47fc1f",
   "metadata": {},
   "source": [
    "### Comparing solution times"
   ]
  },
  {
   "cell_type": "markdown",
   "id": "1ff0a2b2-4629-48c2-a70b-6f7a2c7fd4cf",
   "metadata": {},
   "source": [
    "Finally, we are going to display the times of each function for a board of 10x10, the same snake and depth 19 (cannot run with depth=20 because kernel dies in jupyter):"
   ]
  },
  {
   "cell_type": "code",
   "execution_count": 17,
   "id": "c9f9b0fb-d5bc-4e0c-9f9d-bb8d4ea39093",
   "metadata": {},
   "outputs": [
    {
     "name": "stdout",
     "output_type": "stream",
     "text": [
      "CPU times: user 2min 22s, sys: 2.87 s, total: 2min 25s\n",
      "Wall time: 2min 25s\n",
      "CPU times: user 1min 17s, sys: 39.9 ms, total: 1min 17s\n",
      "Wall time: 1min 17s\n",
      "CPU times: user 1min 2s, sys: 0 ns, total: 1min 2s\n",
      "Wall time: 1min 2s\n"
     ]
    }
   ],
   "source": [
    "board = [10, 10]\n",
    "snake = [\n",
    "    [2, 2],\n",
    "    [3, 2],\n",
    "    [3, 1],\n",
    "    [3, 0],\n",
    "    [2, 0],\n",
    "    [1, 0],\n",
    "    [0, 0]\n",
    "]\n",
    "depth = 19\n",
    "\n",
    "%time _ = get_snake_paths(board, snake, depth)\n",
    "%time _ = get_n_snake_paths(board, snake, depth)\n",
    "%time _ = get_n_snake_paths_opt(board, snake, depth)"
   ]
  },
  {
   "cell_type": "markdown",
   "id": "ecccb755-0e0e-4b0f-b0ab-088ae4b0eae9",
   "metadata": {},
   "source": [
    "### Other ways to optimize the problem"
   ]
  },
  {
   "cell_type": "markdown",
   "id": "b5249b32-874e-47fb-bf60-f9a6108c87ab",
   "metadata": {},
   "source": [
    "A possible optimitation we could implement if we want even more efficiency is the use of parallelization, since this problem can be greatly exploited by the use of recursive functions."
   ]
  }
 ],
 "metadata": {
  "kernelspec": {
   "display_name": "Python 3 (ipykernel)",
   "language": "python",
   "name": "python3"
  },
  "language_info": {
   "codemirror_mode": {
    "name": "ipython",
    "version": 3
   },
   "file_extension": ".py",
   "mimetype": "text/x-python",
   "name": "python",
   "nbconvert_exporter": "python",
   "pygments_lexer": "ipython3",
   "version": "3.10.5"
  },
  "toc-showmarkdowntxt": false
 },
 "nbformat": 4,
 "nbformat_minor": 5
}
