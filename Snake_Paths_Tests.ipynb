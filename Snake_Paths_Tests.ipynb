{
 "cells": [
  {
   "cell_type": "code",
   "execution_count": 1,
   "id": "729a377e-07ec-4c01-9108-8a4ba0af198e",
   "metadata": {},
   "outputs": [],
   "source": [
    "from snake_paths import number_of_available_different_paths"
   ]
  },
  {
   "cell_type": "markdown",
   "id": "4f259562-59cb-4f21-a96d-7a79f13bace3",
   "metadata": {},
   "source": [
    "In this notebook we are going to test the code with three cases:"
   ]
  },
  {
   "cell_type": "markdown",
   "id": "3b2344f0-31e6-4628-b464-8952b2f18d85",
   "metadata": {},
   "source": [
    "## Test 1"
   ]
  },
  {
   "cell_type": "code",
   "execution_count": 2,
   "id": "974691f8-e599-48c4-a438-2da27e0eaa7c",
   "metadata": {},
   "outputs": [],
   "source": [
    "board = [4,3]\n",
    "snake = [\n",
    "    [2,2],\n",
    "    [3,2],\n",
    "    [3,1],\n",
    "    [3,0],\n",
    "    [2,0],\n",
    "    [1,0],\n",
    "    [0,0]\n",
    "]\n",
    "depth = 3\n",
    "\n",
    "result = 7\n",
    "\n",
    "assert number_of_available_different_paths(board, snake, depth) == result"
   ]
  },
  {
   "cell_type": "markdown",
   "id": "33a20243-69ed-4942-b5a9-0b032a8f40ed",
   "metadata": {
    "tags": []
   },
   "source": [
    "## Test 2"
   ]
  },
  {
   "cell_type": "code",
   "execution_count": 3,
   "id": "9813da95-084c-4bf4-9a06-55d4f4e78963",
   "metadata": {},
   "outputs": [],
   "source": [
    "board = [2, 3]\n",
    "snake = [\n",
    "    [0,2], \n",
    "    [0,1], \n",
    "    [0,0], \n",
    "    [1,0], \n",
    "    [1,1], \n",
    "    [1,2]\n",
    "]\n",
    "depth = 10\n",
    "\n",
    "result = 1\n",
    "\n",
    "assert number_of_available_different_paths(board, snake, depth) == result"
   ]
  },
  {
   "cell_type": "markdown",
   "id": "c8126424-f52f-412e-9e53-51bc8cc3f8ed",
   "metadata": {
    "tags": []
   },
   "source": [
    "## Test 3"
   ]
  },
  {
   "cell_type": "code",
   "execution_count": 4,
   "id": "d0e8edf9-973f-448b-907b-75664f861bd0",
   "metadata": {},
   "outputs": [],
   "source": [
    "board = [10, 10]\n",
    "snake = [\n",
    "    [5,5], \n",
    "    [5,4], \n",
    "    [4,4], \n",
    "    [4,5]\n",
    "]\n",
    "depth = 4\n",
    "\n",
    "result = 81\n",
    "\n",
    "assert number_of_available_different_paths(board, snake, depth) == result"
   ]
  }
 ],
 "metadata": {
  "kernelspec": {
   "display_name": "Python 3 (ipykernel)",
   "language": "python",
   "name": "python3"
  },
  "language_info": {
   "codemirror_mode": {
    "name": "ipython",
    "version": 3
   },
   "file_extension": ".py",
   "mimetype": "text/x-python",
   "name": "python",
   "nbconvert_exporter": "python",
   "pygments_lexer": "ipython3",
   "version": "3.10.5"
  }
 },
 "nbformat": 4,
 "nbformat_minor": 5
}
